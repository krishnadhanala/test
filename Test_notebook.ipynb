{
 "cells": [
  {
   "cell_type": "code",
   "execution_count": 11,
   "id": "f1f20444",
   "metadata": {},
   "outputs": [
    {
     "name": "stdout",
     "output_type": "stream",
     "text": [
      "{'version': '5.0.6', 'gitVersion': '212a8dbb47f07427dae194a9c75baec1d81d9259', 'targetMinOS': 'Windows 7/Windows Server 2008 R2', 'modules': [], 'allocator': 'tcmalloc', 'javascriptEngine': 'mozjs', 'sysInfo': 'deprecated', 'versionArray': [5, 0, 6, 0], 'openssl': {'running': 'Windows SChannel'}, 'buildEnvironment': {'distmod': 'windows', 'distarch': 'x86_64', 'cc': 'cl: Microsoft (R) C/C++ Optimizing Compiler Version 19.29.30139 for x64', 'ccflags': '/nologo /WX /FImongo/platform/basic.h /EHsc /W3 /wd4068 /wd4244 /wd4267 /wd4290 /wd4351 /wd4355 /wd4373 /wd4800 /wd4251 /wd4291 /we4013 /we4099 /we4930 /errorReport:none /MD /O2 /Oy- /bigobj /utf-8 /permissive- /Zc:__cplusplus /Zc:sizedDealloc /volatile:iso /diagnostics:caret /std:c++17 /Gw /Gy /Zc:inline', 'cxx': 'cl: Microsoft (R) C/C++ Optimizing Compiler Version 19.29.30139 for x64', 'cxxflags': '/TP', 'linkflags': '/nologo /DEBUG /INCREMENTAL:NO /LARGEADDRESSAWARE /OPT:REF', 'target_arch': 'x86_64', 'target_os': 'windows', 'cppdefines': 'SAFEINT_USE_INTRINSICS 0 PCRE_STATIC NDEBUG BOOST_ALL_NO_LIB _UNICODE UNICODE _SILENCE_CXX17_ALLOCATOR_VOID_DEPRECATION_WARNING _SILENCE_CXX17_OLD_ALLOCATOR_MEMBERS_DEPRECATION_WARNING _SILENCE_CXX17_CODECVT_HEADER_DEPRECATION_WARNING _CONSOLE _CRT_SECURE_NO_WARNINGS _SCL_SECURE_NO_WARNINGS _WIN32_WINNT 0x0A00 BOOST_USE_WINAPI_VERSION 0x0A00 NTDDI_VERSION 0x0A000000 BOOST_THREAD_VERSION 5 BOOST_THREAD_USES_DATETIME BOOST_SYSTEM_NO_DEPRECATED BOOST_MATH_NO_LONG_DOUBLE_MATH_FUNCTIONS BOOST_ENABLE_ASSERT_DEBUG_HANDLER BOOST_LOG_NO_SHORTHAND_NAMES BOOST_LOG_USE_NATIVE_SYSLOG BOOST_LOG_WITHOUT_THREAD_ATTR ABSL_FORCE_ALIGNED_ACCESS'}, 'bits': 64, 'debug': False, 'maxBsonObjectSize': 16777216, 'storageEngines': ['devnull', 'ephemeralForTest', 'wiredTiger'], 'ok': 1.0}\n"
     ]
    }
   ],
   "source": [
    "import pymongo\n",
    "# Replace the uri string with your MongoDB deployment's connection string.\n",
    "# conn_str = \"mongodb://localhost:27017/?authSource=admin\"\n",
    "conn_str = \"mongodb://localhost:27017/\"\n",
    "# set a 5-second connection timeout\n",
    "client = pymongo.MongoClient(conn_str, serverSelectionTimeoutMS=5000)\n",
    "try:\n",
    "    print(client.server_info())\n",
    "except Exception:\n",
    "    print(\"Unable to connect to the server.\")"
   ]
  },
  {
   "cell_type": "code",
   "execution_count": 6,
   "id": "13ce4b86",
   "metadata": {},
   "outputs": [],
   "source": [
    "from pymongo import MongoClient\n",
    "client = MongoClient('localhost', 27017)\n",
    "db = client.database_name\n",
    "collection = db.collection_name\n",
    "# collection.find_one({\"name\":\"name1\"})"
   ]
  },
  {
   "cell_type": "code",
   "execution_count": 1,
   "id": "f23d5afe",
   "metadata": {},
   "outputs": [],
   "source": [
    "import pymongo\n",
    "client = pymongo.MongoClient(\"mongodb://localhost:27017/\")\n",
    "db=client.desidictionary"
   ]
  },
  {
   "cell_type": "code",
   "execution_count": 26,
   "id": "1c46151a",
   "metadata": {},
   "outputs": [],
   "source": [
    "ca = certifi.where()"
   ]
  },
  {
   "cell_type": "code",
   "execution_count": 27,
   "id": "42e9e86b",
   "metadata": {},
   "outputs": [
    {
     "data": {
      "text/plain": [
       "'C:\\\\Infodeed\\\\dictionary\\\\UrbanBangla\\\\bangla\\\\lib\\\\site-packages\\\\certifi\\\\cacert.pem'"
      ]
     },
     "execution_count": 27,
     "metadata": {},
     "output_type": "execute_result"
    }
   ],
   "source": [
    "ca"
   ]
  },
  {
   "cell_type": "code",
   "execution_count": 3,
   "id": "e54b7e15",
   "metadata": {},
   "outputs": [],
   "source": [
    "client = pymongo.MongoClient('mongodb://localhost:27017/')\n",
    "db=client.desidictionary"
   ]
  },
  {
   "cell_type": "code",
   "execution_count": 8,
   "id": "7c5fc1e9",
   "metadata": {},
   "outputs": [],
   "source": [
    "word_order=list(db.words.aggregate([{\n",
    "        \"$match\": {\n",
    "            '$text':{'$search': 'TEST'}\n",
    "        }\n",
    "    },\n",
    "    {\n",
    "        \"$sort\":{\n",
    "            \"upvote\": pymongo.DESCENDING\n",
    "        }\n",
    "    \n",
    "    }]))"
   ]
  },
  {
   "cell_type": "code",
   "execution_count": 9,
   "id": "ec8e5f4c",
   "metadata": {},
   "outputs": [
    {
     "data": {
      "text/plain": [
       "[{'_id': ObjectId('620afbc26c2f805e567230c0'),\n",
       "  'word': 'Testing',\n",
       "  'definition': 'To Test',\n",
       "  'exp': 'Used while Developing',\n",
       "  'email': 'Krishna',\n",
       "  'userHandle': 'abc',\n",
       "  'upvote': 0,\n",
       "  'downvote': 0,\n",
       "  'status': 'approved',\n",
       "  'authorID': '123',\n",
       "  'postedDate': datetime.datetime(2022, 2, 14, 20, 2, 54, 72000)}]"
      ]
     },
     "execution_count": 9,
     "metadata": {},
     "output_type": "execute_result"
    }
   ],
   "source": [
    "word_order"
   ]
  },
  {
   "cell_type": "code",
   "execution_count": 20,
   "id": "6fc85a92",
   "metadata": {},
   "outputs": [],
   "source": [
    "from termcolor import colored\n",
    "from datetime import datetime"
   ]
  },
  {
   "cell_type": "code",
   "execution_count": 18,
   "id": "5d7ad71e",
   "metadata": {},
   "outputs": [
    {
     "name": "stdout",
     "output_type": "stream",
     "text": [
      "Requirement already satisfied: termcolor in c:\\infodeed\\dictionary\\urbanbangla\\bangla\\lib\\site-packages (1.1.0)\n"
     ]
    }
   ],
   "source": [
    "!pip install termcolor"
   ]
  },
  {
   "cell_type": "code",
   "execution_count": 58,
   "id": "562a4f0f",
   "metadata": {},
   "outputs": [
    {
     "name": "stdout",
     "output_type": "stream",
     "text": [
      "\u001b[33m{'word': 'OM', 'definition': 'To Tech', 'exp': 'Used while Developing', 'email': 'Krishna', 'userHandle': 'abc', 'upvote': 1, 'downvote': 3, 'status': 'Pending', 'authorID': '123', 'postedDate': datetime.datetime(2022, 2, 14, 20, 5, 49, 154325)}\u001b[0m\n"
     ]
    }
   ],
   "source": [
    "json= {\"word\":\"OM\",\n",
    "        \"definition\":\"To Tech\",\n",
    "        \"exp\":\"Used while Developing\",\n",
    "        \"email\": \"Krishna\",\n",
    "        \"userHandle\": \"abc\",\n",
    "        \"upvote\":1,\n",
    "        \"downvote\":3,\n",
    "        \"status\":\"Pending\",\n",
    "        'authorID':\"123\",\n",
    "        \"postedDate\": datetime.now()\n",
    "        }\n",
    "\n",
    "# insert word to words table \n",
    "print(colored(json, 'yellow'))\n",
    "# db.words.insert_one(json)"
   ]
  },
  {
   "cell_type": "code",
   "execution_count": 51,
   "id": "b3f4d650",
   "metadata": {},
   "outputs": [],
   "source": [
    "client = pymongo.MongoClient(conn_str)\n",
    "db=client.desidictionary\n",
    "# db=client.UrbanBangla"
   ]
  },
  {
   "cell_type": "code",
   "execution_count": 59,
   "id": "5a8c9e51",
   "metadata": {},
   "outputs": [
    {
     "data": {
      "text/plain": [
       "<pymongo.results.InsertOneResult at 0x273e7ad0d00>"
      ]
     },
     "execution_count": 59,
     "metadata": {},
     "output_type": "execute_result"
    }
   ],
   "source": [
    "db.words.insert_one(json)"
   ]
  },
  {
   "cell_type": "code",
   "execution_count": 14,
   "id": "45d20373",
   "metadata": {},
   "outputs": [
    {
     "data": {
      "text/plain": [
       "<pymongo.results.UpdateResult at 0x21b1ffbdec0>"
      ]
     },
     "execution_count": 14,
     "metadata": {},
     "output_type": "execute_result"
    }
   ],
   "source": [
    "db.users.update_one(\n",
    "            {'google_id':\"101062297045213387459\"},\n",
    "            {'$push':{'words_author':'89999'}}\n",
    "        )"
   ]
  },
  {
   "cell_type": "code",
   "execution_count": 11,
   "id": "8a2cb970",
   "metadata": {},
   "outputs": [
    {
     "name": "stdout",
     "output_type": "stream",
     "text": [
      "argon2-cffi==21.3.0\n",
      "argon2-cffi-bindings==21.2.0\n",
      "asttokens==2.0.5\n",
      "attrs==21.4.0\n",
      "backcall==0.2.0\n",
      "black==22.1.0\n",
      "bleach==4.1.0\n",
      "cachetools==4.2.1\n",
      "certifi==2020.12.5\n",
      "cffi==1.15.0\n",
      "chardet==4.0.0\n",
      "click==8.0.3\n",
      "colorama==0.4.4\n",
      "debugpy==1.5.1\n",
      "decorator==5.1.1\n",
      "defusedxml==0.7.1\n",
      "dnspython==2.2.0\n",
      "entrypoints==0.4\n",
      "executing==0.8.2\n",
      "Flask==1.1.2\n",
      "google-auth==1.27.0\n",
      "google-auth-oauthlib==0.4.2\n",
      "idna==2.10\n",
      "ipykernel==6.9.0\n",
      "ipython==8.0.1\n",
      "ipython-genutils==0.2.0\n",
      "ipywidgets==7.6.5\n",
      "itsdangerous==1.1.0\n",
      "jedi==0.18.1\n",
      "Jinja2==2.11.3\n",
      "jsonschema==4.4.0\n",
      "jupyter==1.0.0\n",
      "jupyter-client==7.1.2\n",
      "jupyter-console==6.4.0\n",
      "jupyter-core==4.9.1\n",
      "jupyterlab-pygments==0.1.2\n",
      "jupyterlab-widgets==1.0.2\n",
      "MarkupSafe==1.1.1\n",
      "matplotlib-inline==0.1.3\n",
      "mistune==0.8.4\n",
      "mypy-extensions==0.4.3\n",
      "nbclient==0.5.10\n",
      "nbconvert==6.4.2\n",
      "nbformat==5.1.3\n",
      "nest-asyncio==1.5.4\n",
      "notebook==6.4.8\n",
      "oauthlib==3.2.0\n",
      "packaging==21.3\n",
      "pandocfilters==1.5.0\n",
      "parso==0.8.3\n",
      "pathspec==0.9.0\n",
      "pickleshare==0.7.5\n",
      "platformdirs==2.5.0\n",
      "prometheus-client==0.13.1\n",
      "prompt-toolkit==3.0.28\n",
      "pure-eval==0.2.2\n",
      "pyasn1==0.4.8\n",
      "pyasn1-modules==0.2.8\n",
      "pycparser==2.21\n",
      "Pygments==2.11.2\n",
      "pymongo==4.0.1\n",
      "pyparsing==3.0.7\n",
      "pyrsistent==0.18.1\n",
      "python-dateutil==2.8.2\n",
      "pywin32==303\n",
      "pywinpty==2.0.2\n",
      "pyzmq==22.3.0\n",
      "qtconsole==5.2.2\n",
      "QtPy==2.0.1\n",
      "requests==2.25.1\n",
      "requests-oauthlib==1.3.0\n",
      "rsa==4.7.1\n",
      "Send2Trash==1.8.0\n",
      "six==1.15.0\n",
      "stack-data==0.1.4\n",
      "termcolor==1.1.0\n",
      "terminado==0.13.1\n",
      "testpath==0.5.0\n",
      "tomli==2.0.1\n",
      "tornado==6.1\n",
      "traitlets==5.1.1\n",
      "urllib3==1.26.3\n",
      "wcwidth==0.2.5\n",
      "webencodings==0.5.1\n",
      "Werkzeug==1.0.1\n",
      "widgetsnbextension==3.5.2\n"
     ]
    }
   ],
   "source": [
    "!pip freeze"
   ]
  }
 ],
 "metadata": {
  "kernelspec": {
   "display_name": "Python 3 (ipykernel)",
   "language": "python",
   "name": "python3"
  },
  "language_info": {
   "codemirror_mode": {
    "name": "ipython",
    "version": 3
   },
   "file_extension": ".py",
   "mimetype": "text/x-python",
   "name": "python",
   "nbconvert_exporter": "python",
   "pygments_lexer": "ipython3",
   "version": "3.10.2"
  }
 },
 "nbformat": 4,
 "nbformat_minor": 5
}
